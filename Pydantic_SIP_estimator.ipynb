{
  "nbformat": 4,
  "nbformat_minor": 0,
  "metadata": {
    "colab": {
      "provenance": [],
      "authorship_tag": "ABX9TyNYtFJv86cnb0227ZpFwNmf",
      "include_colab_link": true
    },
    "kernelspec": {
      "name": "python3",
      "display_name": "Python 3"
    },
    "language_info": {
      "name": "python"
    }
  },
  "cells": [
    {
      "cell_type": "markdown",
      "metadata": {
        "id": "view-in-github",
        "colab_type": "text"
      },
      "source": [
        "<a href=\"https://colab.research.google.com/github/utkarshg1/DL-2pm-4pm-Weekend/blob/main/Pydantic_SIP_estimator.ipynb\" target=\"_parent\"><img src=\"https://colab.research.google.com/assets/colab-badge.svg\" alt=\"Open In Colab\"/></a>"
      ]
    },
    {
      "cell_type": "code",
      "execution_count": 1,
      "metadata": {
        "id": "gGArWQVuuE_u"
      },
      "outputs": [],
      "source": [
        "from pydantic import BaseModel, Field\n",
        "from datetime import date"
      ]
    },
    {
      "cell_type": "code",
      "source": [
        "class Retirement(BaseModel):\n",
        "\n",
        "  monthly_expense: float = Field(gt=0, description=\"Monthly expenses\")\n",
        "  dob: date = Field(le=date.today(), description=\"Date of birth\")\n",
        "  retire_age: int = Field(default=60, description=\"Retirement Age\")\n",
        "  inflation_rate: float = Field(ge=0.0, le=100.0, default=8.0 , description=\"Inflation rate in percent\")\n",
        "  withdrawal_rate: float = Field(ge=0.0, le=100.0, default=3.0 , description=\"Withdrawal rate in percent\")\n",
        "  expected_return: float = Field(ge=0.0, le=100.0, default=12.0 , description=\"Expected return in percent\")\n",
        "\n",
        "  def get_age(self):\n",
        "    today = date.today()\n",
        "    age = today.year - self.dob.year - ((today.month, today.day) < (self.dob.month, self.dob.day))\n",
        "    return age\n",
        "\n",
        "  def get_years_to_retire(self):\n",
        "    age = self.get_age()\n",
        "    years_to_retire = self.retire_age - age\n",
        "    if years_to_retire <= 0:\n",
        "      raise ValueError(\"Years to retire cannot be negative\")\n",
        "    return years_to_retire\n",
        "\n",
        "  def get_total_corpus(self):\n",
        "    annual_expense = self.monthly_expense*12\n",
        "    years_to_retire = self.get_years_to_retire()\n",
        "    future_value = annual_expense*(1 + self.inflation_rate/100)**years_to_retire\n",
        "    return future_value/(self.withdrawal_rate/100)\n",
        "\n",
        "  def estimate_sip(self):\n",
        "    i = self.expected_return/1200\n",
        "    n = self.get_years_to_retire()*12\n",
        "    m = self.get_total_corpus()\n",
        "    x = (1 + i)**n - 1\n",
        "    y = (x/i)*(1+i)\n",
        "    return m/y"
      ],
      "metadata": {
        "id": "D5Ex-WNsuKnB"
      },
      "execution_count": 2,
      "outputs": []
    },
    {
      "cell_type": "code",
      "source": [
        "p1 = Retirement(monthly_expense=1_00_000, dob=date(1994, 12, 16))"
      ],
      "metadata": {
        "id": "ZQobBhHXQ8kj"
      },
      "execution_count": 3,
      "outputs": []
    },
    {
      "cell_type": "code",
      "source": [
        "p1"
      ],
      "metadata": {
        "colab": {
          "base_uri": "https://localhost:8080/"
        },
        "id": "Wf1gYKQWRcwL",
        "outputId": "e865b046-1b86-4c52-8e80-17e2f8ff1a2f"
      },
      "execution_count": 4,
      "outputs": [
        {
          "output_type": "execute_result",
          "data": {
            "text/plain": [
              "Retirement(monthly_expense=100000.0, dob=datetime.date(1994, 12, 16), retire_age=60, inflation_rate=8.0, withdrawal_rate=3.0, expected_return=12.0)"
            ]
          },
          "metadata": {},
          "execution_count": 4
        }
      ]
    },
    {
      "cell_type": "code",
      "source": [
        "p1.get_age()"
      ],
      "metadata": {
        "colab": {
          "base_uri": "https://localhost:8080/"
        },
        "id": "TrCp8ZvCRdmC",
        "outputId": "ce4bbbdf-9611-4088-f1df-725f3b272948"
      },
      "execution_count": 5,
      "outputs": [
        {
          "output_type": "execute_result",
          "data": {
            "text/plain": [
              "29"
            ]
          },
          "metadata": {},
          "execution_count": 5
        }
      ]
    },
    {
      "cell_type": "code",
      "source": [
        "p1.get_years_to_retire()"
      ],
      "metadata": {
        "colab": {
          "base_uri": "https://localhost:8080/"
        },
        "id": "7fyhPTAcRg7U",
        "outputId": "4e75a1aa-2eeb-4140-fd60-46ecea268206"
      },
      "execution_count": 6,
      "outputs": [
        {
          "output_type": "execute_result",
          "data": {
            "text/plain": [
              "31"
            ]
          },
          "metadata": {},
          "execution_count": 6
        }
      ]
    },
    {
      "cell_type": "code",
      "source": [
        "p1.get_total_corpus()"
      ],
      "metadata": {
        "colab": {
          "base_uri": "https://localhost:8080/"
        },
        "id": "kPquK6sURjYs",
        "outputId": "7ec7ac0a-9212-417b-9de5-e0470ef34d9b"
      },
      "execution_count": 7,
      "outputs": [
        {
          "output_type": "execute_result",
          "data": {
            "text/plain": [
              "434706777.6079731"
            ]
          },
          "metadata": {},
          "execution_count": 7
        }
      ]
    },
    {
      "cell_type": "code",
      "source": [
        "p1.estimate_sip()"
      ],
      "metadata": {
        "colab": {
          "base_uri": "https://localhost:8080/"
        },
        "id": "2cE_K5ItRkw7",
        "outputId": "d469b8b5-55de-451e-e18f-d5ee170a0bc7"
      },
      "execution_count": 9,
      "outputs": [
        {
          "output_type": "execute_result",
          "data": {
            "text/plain": [
              "108938.02247692372"
            ]
          },
          "metadata": {},
          "execution_count": 9
        }
      ]
    },
    {
      "cell_type": "code",
      "source": [],
      "metadata": {
        "id": "0kbUhSrtRpQe"
      },
      "execution_count": null,
      "outputs": []
    }
  ]
}
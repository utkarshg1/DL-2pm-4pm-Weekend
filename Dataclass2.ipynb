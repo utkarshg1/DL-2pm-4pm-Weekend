{
  "nbformat": 4,
  "nbformat_minor": 0,
  "metadata": {
    "colab": {
      "provenance": [],
      "authorship_tag": "ABX9TyPoqCXoP68hkMp7hF5qjbqO",
      "include_colab_link": true
    },
    "kernelspec": {
      "name": "python3",
      "display_name": "Python 3"
    },
    "language_info": {
      "name": "python"
    }
  },
  "cells": [
    {
      "cell_type": "markdown",
      "metadata": {
        "id": "view-in-github",
        "colab_type": "text"
      },
      "source": [
        "<a href=\"https://colab.research.google.com/github/utkarshg1/DL-2pm-4pm-Weekend/blob/main/Dataclass2.ipynb\" target=\"_parent\"><img src=\"https://colab.research.google.com/assets/colab-badge.svg\" alt=\"Open In Colab\"/></a>"
      ]
    },
    {
      "cell_type": "code",
      "execution_count": 1,
      "metadata": {
        "id": "4M-170Im_qaY"
      },
      "outputs": [],
      "source": [
        "from dataclasses import dataclass\n",
        "from datetime import date"
      ]
    },
    {
      "cell_type": "code",
      "source": [
        "@dataclass\n",
        "class Employee:\n",
        "  id: int\n",
        "  name: str\n",
        "  birthdate: date\n",
        "  salary: float\n",
        "\n",
        "  def __post_init__(self):\n",
        "    self.validate_id()\n",
        "    self.validate_name()\n",
        "    self.validate_birthdate()\n",
        "    self.validate_salary()\n",
        "\n",
        "  def validate_id(self):\n",
        "    if not isinstance(self.id, int):\n",
        "      raise TypeError(\"Id must be an integer\")\n",
        "    if self.id<0:\n",
        "      raise ValueError(\"Id must be a positive integer\")\n",
        "\n",
        "  def validate_name(self):\n",
        "    if not isinstance(self.name, str):\n",
        "      raise TypeError(\"Name must be a string\")\n",
        "    if len(self.name)<3:\n",
        "      raise ValueError(\"Name must be at least 3 characters long\")\n",
        "\n",
        "  def validate_birthdate(self):\n",
        "    if not isinstance(self.birthdate, date):\n",
        "      raise TypeError(\"Birthdate must be a date\")\n",
        "    if self.birthdate>date.today():\n",
        "      raise ValueError(\"Birthdate must be in the past\")\n",
        "\n",
        "  def validate_salary(self):\n",
        "    if not isinstance(self.salary, float):\n",
        "      raise TypeError(\"Salary must be a float\")\n",
        "    if self.salary<0:\n",
        "      raise ValueError(\"Salary must be a positive float\")\n",
        "\n",
        "  def get_info(self):\n",
        "    print(\"Employee Information\")\n",
        "    print(f\"Employee Id : {self.id}\")\n",
        "    print(f\"Employee Name : {self.name}\")\n",
        "    print(f\"Employee Birthdate : {self.birthdate}\")\n",
        "    print(f\"Employee Salary : {self.salary:.2f} INR\")"
      ],
      "metadata": {
        "id": "uRPXn-2t_u2V"
      },
      "execution_count": 2,
      "outputs": []
    },
    {
      "cell_type": "code",
      "source": [
        "emp = Employee(1, \"John\", date(1990, 1, 1), 50000.0)"
      ],
      "metadata": {
        "id": "l7tppeEmEBSW"
      },
      "execution_count": 3,
      "outputs": []
    },
    {
      "cell_type": "code",
      "source": [
        "emp"
      ],
      "metadata": {
        "colab": {
          "base_uri": "https://localhost:8080/"
        },
        "id": "0mqm5KyiENAS",
        "outputId": "9ed94d24-8bf4-495f-d5e0-f5660aa50301"
      },
      "execution_count": 4,
      "outputs": [
        {
          "output_type": "execute_result",
          "data": {
            "text/plain": [
              "Employee(id=1, name='John', birthdate=datetime.date(1990, 1, 1), salary=50000.0)"
            ]
          },
          "metadata": {},
          "execution_count": 4
        }
      ]
    },
    {
      "cell_type": "code",
      "source": [
        "emp.get_info()"
      ],
      "metadata": {
        "colab": {
          "base_uri": "https://localhost:8080/"
        },
        "id": "vzIePet7EYN6",
        "outputId": "be8f2304-cfe4-4757-e35e-5a9320c1a16a"
      },
      "execution_count": 6,
      "outputs": [
        {
          "output_type": "stream",
          "name": "stdout",
          "text": [
            "Employee Information\n",
            "Employee Id : 1\n",
            "Employee Name : John\n",
            "Employee Birthdate : 1990-01-01\n",
            "Employee Salary : 50000.00 INR\n"
          ]
        }
      ]
    },
    {
      "cell_type": "code",
      "source": [
        "emp2 = Employee(2, \"Rahul\", \"20th Jul 2024\", 30000.0)"
      ],
      "metadata": {
        "colab": {
          "base_uri": "https://localhost:8080/",
          "height": 321
        },
        "id": "WZNwhIfAEb7L",
        "outputId": "9d3c59f1-1455-4024-9610-2af607b2950a"
      },
      "execution_count": 7,
      "outputs": [
        {
          "output_type": "error",
          "ename": "TypeError",
          "evalue": "Birthdate must be a date",
          "traceback": [
            "\u001b[0;31m---------------------------------------------------------------------------\u001b[0m",
            "\u001b[0;31mTypeError\u001b[0m                                 Traceback (most recent call last)",
            "\u001b[0;32m<ipython-input-7-36f45b8692b8>\u001b[0m in \u001b[0;36m<cell line: 1>\u001b[0;34m()\u001b[0m\n\u001b[0;32m----> 1\u001b[0;31m \u001b[0memp2\u001b[0m \u001b[0;34m=\u001b[0m \u001b[0mEmployee\u001b[0m\u001b[0;34m(\u001b[0m\u001b[0;36m2\u001b[0m\u001b[0;34m,\u001b[0m \u001b[0;34m\"Rahul\"\u001b[0m\u001b[0;34m,\u001b[0m \u001b[0;34m\"20th Jul 2024\"\u001b[0m\u001b[0;34m,\u001b[0m \u001b[0;36m30000.0\u001b[0m\u001b[0;34m)\u001b[0m\u001b[0;34m\u001b[0m\u001b[0;34m\u001b[0m\u001b[0m\n\u001b[0m",
            "\u001b[0;32m<string>\u001b[0m in \u001b[0;36m__init__\u001b[0;34m(self, id, name, birthdate, salary)\u001b[0m\n",
            "\u001b[0;32m<ipython-input-2-1e02da8a19b3>\u001b[0m in \u001b[0;36m__post_init__\u001b[0;34m(self)\u001b[0m\n\u001b[1;32m      9\u001b[0m     \u001b[0mself\u001b[0m\u001b[0;34m.\u001b[0m\u001b[0mvalidate_id\u001b[0m\u001b[0;34m(\u001b[0m\u001b[0;34m)\u001b[0m\u001b[0;34m\u001b[0m\u001b[0;34m\u001b[0m\u001b[0m\n\u001b[1;32m     10\u001b[0m     \u001b[0mself\u001b[0m\u001b[0;34m.\u001b[0m\u001b[0mvalidate_name\u001b[0m\u001b[0;34m(\u001b[0m\u001b[0;34m)\u001b[0m\u001b[0;34m\u001b[0m\u001b[0;34m\u001b[0m\u001b[0m\n\u001b[0;32m---> 11\u001b[0;31m     \u001b[0mself\u001b[0m\u001b[0;34m.\u001b[0m\u001b[0mvalidate_birthdate\u001b[0m\u001b[0;34m(\u001b[0m\u001b[0;34m)\u001b[0m\u001b[0;34m\u001b[0m\u001b[0;34m\u001b[0m\u001b[0m\n\u001b[0m\u001b[1;32m     12\u001b[0m     \u001b[0mself\u001b[0m\u001b[0;34m.\u001b[0m\u001b[0mvalidate_salary\u001b[0m\u001b[0;34m(\u001b[0m\u001b[0;34m)\u001b[0m\u001b[0;34m\u001b[0m\u001b[0;34m\u001b[0m\u001b[0m\n\u001b[1;32m     13\u001b[0m \u001b[0;34m\u001b[0m\u001b[0m\n",
            "\u001b[0;32m<ipython-input-2-1e02da8a19b3>\u001b[0m in \u001b[0;36mvalidate_birthdate\u001b[0;34m(self)\u001b[0m\n\u001b[1;32m     26\u001b[0m   \u001b[0;32mdef\u001b[0m \u001b[0mvalidate_birthdate\u001b[0m\u001b[0;34m(\u001b[0m\u001b[0mself\u001b[0m\u001b[0;34m)\u001b[0m\u001b[0;34m:\u001b[0m\u001b[0;34m\u001b[0m\u001b[0;34m\u001b[0m\u001b[0m\n\u001b[1;32m     27\u001b[0m     \u001b[0;32mif\u001b[0m \u001b[0;32mnot\u001b[0m \u001b[0misinstance\u001b[0m\u001b[0;34m(\u001b[0m\u001b[0mself\u001b[0m\u001b[0;34m.\u001b[0m\u001b[0mbirthdate\u001b[0m\u001b[0;34m,\u001b[0m \u001b[0mdate\u001b[0m\u001b[0;34m)\u001b[0m\u001b[0;34m:\u001b[0m\u001b[0;34m\u001b[0m\u001b[0;34m\u001b[0m\u001b[0m\n\u001b[0;32m---> 28\u001b[0;31m       \u001b[0;32mraise\u001b[0m \u001b[0mTypeError\u001b[0m\u001b[0;34m(\u001b[0m\u001b[0;34m\"Birthdate must be a date\"\u001b[0m\u001b[0;34m)\u001b[0m\u001b[0;34m\u001b[0m\u001b[0;34m\u001b[0m\u001b[0m\n\u001b[0m\u001b[1;32m     29\u001b[0m     \u001b[0;32mif\u001b[0m \u001b[0mself\u001b[0m\u001b[0;34m.\u001b[0m\u001b[0mbirthdate\u001b[0m\u001b[0;34m>\u001b[0m\u001b[0mdate\u001b[0m\u001b[0;34m.\u001b[0m\u001b[0mtoday\u001b[0m\u001b[0;34m(\u001b[0m\u001b[0;34m)\u001b[0m\u001b[0;34m:\u001b[0m\u001b[0;34m\u001b[0m\u001b[0;34m\u001b[0m\u001b[0m\n\u001b[1;32m     30\u001b[0m       \u001b[0;32mraise\u001b[0m \u001b[0mValueError\u001b[0m\u001b[0;34m(\u001b[0m\u001b[0;34m\"Birthdate must be in the past\"\u001b[0m\u001b[0;34m)\u001b[0m\u001b[0;34m\u001b[0m\u001b[0;34m\u001b[0m\u001b[0m\n",
            "\u001b[0;31mTypeError\u001b[0m: Birthdate must be a date"
          ]
        }
      ]
    },
    {
      "cell_type": "code",
      "source": [],
      "metadata": {
        "id": "XBKepgQXEpbE"
      },
      "execution_count": null,
      "outputs": []
    }
  ]
}
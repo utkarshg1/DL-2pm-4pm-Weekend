{
  "nbformat": 4,
  "nbformat_minor": 0,
  "metadata": {
    "colab": {
      "provenance": [],
      "authorship_tag": "ABX9TyMKSGsFEmE1Xn/6BqERLvpd",
      "include_colab_link": true
    },
    "kernelspec": {
      "name": "python3",
      "display_name": "Python 3"
    },
    "language_info": {
      "name": "python"
    }
  },
  "cells": [
    {
      "cell_type": "markdown",
      "metadata": {
        "id": "view-in-github",
        "colab_type": "text"
      },
      "source": [
        "<a href=\"https://colab.research.google.com/github/utkarshg1/DL-2pm-4pm-Weekend/blob/main/Dataclass2.ipynb\" target=\"_parent\"><img src=\"https://colab.research.google.com/assets/colab-badge.svg\" alt=\"Open In Colab\"/></a>"
      ]
    },
    {
      "cell_type": "code",
      "execution_count": 8,
      "metadata": {
        "id": "4M-170Im_qaY"
      },
      "outputs": [],
      "source": [
        "from dataclasses import dataclass\n",
        "from datetime import date"
      ]
    },
    {
      "cell_type": "code",
      "source": [
        "@dataclass\n",
        "class Employee:\n",
        "  id: int\n",
        "  name: str\n",
        "  birthdate: date\n",
        "  salary: float\n",
        "\n",
        "  def __post_init__(self):\n",
        "    errors = []\n",
        "\n",
        "    try:\n",
        "      self.validate_id()\n",
        "    except (TypeError, ValueError) as e:\n",
        "      errors.append(str(e))\n",
        "\n",
        "    try:\n",
        "      self.validate_name()\n",
        "    except (TypeError, ValueError) as e:\n",
        "      errors.append(str(e))\n",
        "\n",
        "    try:\n",
        "      self.validate_birthdate()\n",
        "    except (TypeError, ValueError) as e:\n",
        "      errors.append(str(e))\n",
        "\n",
        "    try:\n",
        "      self.validate_salary()\n",
        "    except (TypeError, ValueError) as e:\n",
        "      errors.append(str(e))\n",
        "\n",
        "    if errors:\n",
        "      raise ValueError(\"Validation errors occurred:\\n\" + \"\\n\".join(errors))\n",
        "\n",
        "  def validate_id(self):\n",
        "    if not isinstance(self.id, int):\n",
        "      raise TypeError(\"Id must be an integer\")\n",
        "    if self.id<0:\n",
        "      raise ValueError(\"Id must be a positive integer\")\n",
        "\n",
        "  def validate_name(self):\n",
        "    if not isinstance(self.name, str):\n",
        "      raise TypeError(\"Name must be a string\")\n",
        "    if len(self.name)<3:\n",
        "      raise ValueError(\"Name must be at least 3 characters long\")\n",
        "\n",
        "  def validate_birthdate(self):\n",
        "    if not isinstance(self.birthdate, date):\n",
        "      raise TypeError(\"Birthdate must be a date\")\n",
        "    if self.birthdate>date.today():\n",
        "      raise ValueError(\"Birthdate must be in the past\")\n",
        "\n",
        "  def validate_salary(self):\n",
        "    if not isinstance(self.salary, float):\n",
        "      raise TypeError(\"Salary must be a float\")\n",
        "    if self.salary<0:\n",
        "      raise ValueError(\"Salary must be a positive float\")\n",
        "\n",
        "  def get_info(self):\n",
        "    print(\"Employee Information\")\n",
        "    print(f\"Employee Id : {self.id}\")\n",
        "    print(f\"Employee Name : {self.name}\")\n",
        "    print(f\"Employee Birthdate : {self.birthdate}\")\n",
        "    print(f\"Employee Salary : {self.salary:.2f} INR\")"
      ],
      "metadata": {
        "id": "uRPXn-2t_u2V"
      },
      "execution_count": 9,
      "outputs": []
    },
    {
      "cell_type": "code",
      "source": [
        "emp = Employee(1, \"John\", date(1990, 1, 1), 50000.0)"
      ],
      "metadata": {
        "id": "l7tppeEmEBSW"
      },
      "execution_count": 10,
      "outputs": []
    },
    {
      "cell_type": "code",
      "source": [
        "emp"
      ],
      "metadata": {
        "colab": {
          "base_uri": "https://localhost:8080/"
        },
        "id": "0mqm5KyiENAS",
        "outputId": "e0fd8864-c39c-4b75-ebc4-78a4670ea655"
      },
      "execution_count": 11,
      "outputs": [
        {
          "output_type": "execute_result",
          "data": {
            "text/plain": [
              "Employee(id=1, name='John', birthdate=datetime.date(1990, 1, 1), salary=50000.0)"
            ]
          },
          "metadata": {},
          "execution_count": 11
        }
      ]
    },
    {
      "cell_type": "code",
      "source": [
        "emp.get_info()"
      ],
      "metadata": {
        "colab": {
          "base_uri": "https://localhost:8080/"
        },
        "id": "vzIePet7EYN6",
        "outputId": "685e89e1-7200-45df-95cd-97a6eea1b8e9"
      },
      "execution_count": 12,
      "outputs": [
        {
          "output_type": "stream",
          "name": "stdout",
          "text": [
            "Employee Information\n",
            "Employee Id : 1\n",
            "Employee Name : John\n",
            "Employee Birthdate : 1990-01-01\n",
            "Employee Salary : 50000.00 INR\n"
          ]
        }
      ]
    },
    {
      "cell_type": "code",
      "source": [
        "emp2 = Employee(\"Two\", \"Me\", \"20th Jul 2024\", -30000.0)"
      ],
      "metadata": {
        "colab": {
          "base_uri": "https://localhost:8080/",
          "height": 384
        },
        "id": "WZNwhIfAEb7L",
        "outputId": "6572449e-ea90-447c-b41b-6f09f6cc02f2"
      },
      "execution_count": 15,
      "outputs": [
        {
          "output_type": "error",
          "ename": "ValueError",
          "evalue": "Validation errors occurred:\nId must be an integer\nName must be at least 3 characters long\nBirthdate must be a date\nSalary must be a positive float",
          "traceback": [
            "\u001b[0;31m---------------------------------------------------------------------------\u001b[0m",
            "\u001b[0;31mValueError\u001b[0m                                Traceback (most recent call last)",
            "\u001b[0;32m<ipython-input-15-1b5ac26068c5>\u001b[0m in \u001b[0;36m<cell line: 1>\u001b[0;34m()\u001b[0m\n\u001b[0;32m----> 1\u001b[0;31m \u001b[0memp2\u001b[0m \u001b[0;34m=\u001b[0m \u001b[0mEmployee\u001b[0m\u001b[0;34m(\u001b[0m\u001b[0;34m\"Two\"\u001b[0m\u001b[0;34m,\u001b[0m \u001b[0;34m\"Me\"\u001b[0m\u001b[0;34m,\u001b[0m \u001b[0;34m\"20th Jul 2024\"\u001b[0m\u001b[0;34m,\u001b[0m \u001b[0;34m-\u001b[0m\u001b[0;36m30000.0\u001b[0m\u001b[0;34m)\u001b[0m\u001b[0;34m\u001b[0m\u001b[0;34m\u001b[0m\u001b[0m\n\u001b[0m",
            "\u001b[0;32m<string>\u001b[0m in \u001b[0;36m__init__\u001b[0;34m(self, id, name, birthdate, salary)\u001b[0m\n",
            "\u001b[0;32m<ipython-input-9-8fd3192eb401>\u001b[0m in \u001b[0;36m__post_init__\u001b[0;34m(self)\u001b[0m\n\u001b[1;32m     30\u001b[0m \u001b[0;34m\u001b[0m\u001b[0m\n\u001b[1;32m     31\u001b[0m     \u001b[0;32mif\u001b[0m \u001b[0merrors\u001b[0m\u001b[0;34m:\u001b[0m\u001b[0;34m\u001b[0m\u001b[0;34m\u001b[0m\u001b[0m\n\u001b[0;32m---> 32\u001b[0;31m       \u001b[0;32mraise\u001b[0m \u001b[0mValueError\u001b[0m\u001b[0;34m(\u001b[0m\u001b[0;34m\"Validation errors occurred:\\n\"\u001b[0m \u001b[0;34m+\u001b[0m \u001b[0;34m\"\\n\"\u001b[0m\u001b[0;34m.\u001b[0m\u001b[0mjoin\u001b[0m\u001b[0;34m(\u001b[0m\u001b[0merrors\u001b[0m\u001b[0;34m)\u001b[0m\u001b[0;34m)\u001b[0m\u001b[0;34m\u001b[0m\u001b[0;34m\u001b[0m\u001b[0m\n\u001b[0m\u001b[1;32m     33\u001b[0m \u001b[0;34m\u001b[0m\u001b[0m\n\u001b[1;32m     34\u001b[0m   \u001b[0;32mdef\u001b[0m \u001b[0mvalidate_id\u001b[0m\u001b[0;34m(\u001b[0m\u001b[0mself\u001b[0m\u001b[0;34m)\u001b[0m\u001b[0;34m:\u001b[0m\u001b[0;34m\u001b[0m\u001b[0;34m\u001b[0m\u001b[0m\n",
            "\u001b[0;31mValueError\u001b[0m: Validation errors occurred:\nId must be an integer\nName must be at least 3 characters long\nBirthdate must be a date\nSalary must be a positive float"
          ]
        }
      ]
    },
    {
      "cell_type": "code",
      "source": [],
      "metadata": {
        "id": "XBKepgQXEpbE"
      },
      "execution_count": null,
      "outputs": []
    }
  ]
}
{
  "nbformat": 4,
  "nbformat_minor": 0,
  "metadata": {
    "colab": {
      "provenance": [],
      "authorship_tag": "ABX9TyPrg+TKHNfWoHkredZd4A9x",
      "include_colab_link": true
    },
    "kernelspec": {
      "name": "python3",
      "display_name": "Python 3"
    },
    "language_info": {
      "name": "python"
    }
  },
  "cells": [
    {
      "cell_type": "markdown",
      "metadata": {
        "id": "view-in-github",
        "colab_type": "text"
      },
      "source": [
        "<a href=\"https://colab.research.google.com/github/utkarshg1/DL-2pm-4pm-Weekend/blob/main/ORM.ipynb\" target=\"_parent\"><img src=\"https://colab.research.google.com/assets/colab-badge.svg\" alt=\"Open In Colab\"/></a>"
      ]
    },
    {
      "cell_type": "code",
      "execution_count": 1,
      "metadata": {
        "id": "7pndG0Fg_upm"
      },
      "outputs": [],
      "source": [
        "from sqlalchemy import create_engine, Column, Integer, String\n",
        "from sqlalchemy.orm import sessionmaker, declarative_base"
      ]
    },
    {
      "cell_type": "code",
      "source": [
        "engine = create_engine(\"sqlite:///test.db\")\n",
        "Session = sessionmaker(bind=engine)\n",
        "session = Session()"
      ],
      "metadata": {
        "id": "9FptJOEt_651"
      },
      "execution_count": 2,
      "outputs": []
    },
    {
      "cell_type": "code",
      "source": [
        "Base = declarative_base()"
      ],
      "metadata": {
        "id": "HCwWIoQDAMWU"
      },
      "execution_count": 3,
      "outputs": []
    },
    {
      "cell_type": "code",
      "source": [
        "class User(Base):\n",
        "  __tablename__ = \"users\"\n",
        "\n",
        "  id = Column(Integer, primary_key=True)\n",
        "  name = Column(String)\n",
        "  age = Column(Integer)\n",
        "\n",
        "  def __repr__(self):\n",
        "    return f\"User(id={self.id}, name={self.name}, age={self.age})\""
      ],
      "metadata": {
        "id": "3-CH0nbTAPyi"
      },
      "execution_count": 4,
      "outputs": []
    },
    {
      "cell_type": "code",
      "source": [
        "Base.metadata.create_all(engine)"
      ],
      "metadata": {
        "id": "Ucm-3cnFA3Sq"
      },
      "execution_count": 5,
      "outputs": []
    },
    {
      "cell_type": "code",
      "source": [
        "import re"
      ],
      "metadata": {
        "id": "VIL9OprZBdlH"
      },
      "execution_count": 6,
      "outputs": []
    },
    {
      "cell_type": "code",
      "source": [
        "def sanitize_input(input_value, input_type):\n",
        "    # Ensure the input matches the expected type\n",
        "    if input_type == \"string\":\n",
        "        if not isinstance(input_value, str):\n",
        "            raise ValueError(\"Invalid input: Expected a string.\")\n",
        "        # Ensure only alphanumeric characters are allowed\n",
        "        if not re.match(\"^[A-Za-z0-9]*$\", input_value):\n",
        "            raise ValueError(\"Invalid input: Only alphanumeric characters are allowed.\")\n",
        "        # Ensure the string is not too long\n",
        "        if len(input_value) > 50:\n",
        "            raise ValueError(\"Input too long.\")\n",
        "\n",
        "    elif input_type == \"integer\":\n",
        "        if not isinstance(input_value, int):\n",
        "            raise ValueError(\"Invalid input: Expected an integer.\")\n",
        "\n",
        "    return input_value"
      ],
      "metadata": {
        "id": "amdIyyL_A7dh"
      },
      "execution_count": 7,
      "outputs": []
    },
    {
      "cell_type": "code",
      "source": [
        "def insert_user(name, age):\n",
        "  sanitized_name = sanitize_input(name, \"string\")\n",
        "  sanitized_age = sanitize_input(age, \"integer\")\n",
        "  new_user = User(name=sanitized_name, age=sanitized_age)\n",
        "  session.add(new_user)\n",
        "  session.commit()\n",
        "  print(f\"User {sanitized_name} added successfully.\")"
      ],
      "metadata": {
        "id": "SHZM0MKJCjCC"
      },
      "execution_count": 8,
      "outputs": []
    },
    {
      "cell_type": "code",
      "source": [
        "try:\n",
        "  insert_user(\"Utkarsh\", 30)\n",
        "except ValueError as e:\n",
        "  print(f\"Error occured : {e}\")"
      ],
      "metadata": {
        "colab": {
          "base_uri": "https://localhost:8080/"
        },
        "id": "yJ66qdCZDVV9",
        "outputId": "11afdc8e-000f-427e-b8ad-3958e3d3b3fa"
      },
      "execution_count": 9,
      "outputs": [
        {
          "output_type": "stream",
          "name": "stdout",
          "text": [
            "User Utkarsh added successfully.\n"
          ]
        }
      ]
    },
    {
      "cell_type": "code",
      "source": [
        "def fetch_user(name):\n",
        "    # Sanitize input (ensure it's a valid string)\n",
        "    sanitized_name = sanitize_input(name, \"string\")\n",
        "\n",
        "    # Query the database to find the user with the given name\n",
        "    user = session.query(User).filter(User.name == sanitized_name).first()\n",
        "\n",
        "    # Return the user data if found, else return None\n",
        "    if user:\n",
        "        return user\n",
        "    else:\n",
        "        return None"
      ],
      "metadata": {
        "id": "9_r-Y9kfDlW5"
      },
      "execution_count": 10,
      "outputs": []
    },
    {
      "cell_type": "code",
      "source": [
        "user = fetch_user(\"Utkarsh\")"
      ],
      "metadata": {
        "id": "HHrdYs9zD45C"
      },
      "execution_count": 11,
      "outputs": []
    },
    {
      "cell_type": "code",
      "source": [
        "user.id"
      ],
      "metadata": {
        "colab": {
          "base_uri": "https://localhost:8080/"
        },
        "id": "cPomwpD5D7ns",
        "outputId": "9c9ae719-08ba-4148-b54c-055008e2fba6"
      },
      "execution_count": 12,
      "outputs": [
        {
          "output_type": "execute_result",
          "data": {
            "text/plain": [
              "1"
            ]
          },
          "metadata": {},
          "execution_count": 12
        }
      ]
    },
    {
      "cell_type": "code",
      "source": [
        "user.name"
      ],
      "metadata": {
        "colab": {
          "base_uri": "https://localhost:8080/",
          "height": 35
        },
        "id": "qU1RttydEHjN",
        "outputId": "50033df0-da9c-47c7-c0c9-fb89831e5f1f"
      },
      "execution_count": 13,
      "outputs": [
        {
          "output_type": "execute_result",
          "data": {
            "text/plain": [
              "'Utkarsh'"
            ],
            "application/vnd.google.colaboratory.intrinsic+json": {
              "type": "string"
            }
          },
          "metadata": {},
          "execution_count": 13
        }
      ]
    },
    {
      "cell_type": "code",
      "source": [
        "user.age"
      ],
      "metadata": {
        "colab": {
          "base_uri": "https://localhost:8080/"
        },
        "id": "BfsGix6IEJDJ",
        "outputId": "b7c50050-bcfa-4fa1-8430-be517d6aaf86"
      },
      "execution_count": 14,
      "outputs": [
        {
          "output_type": "execute_result",
          "data": {
            "text/plain": [
              "30"
            ]
          },
          "metadata": {},
          "execution_count": 14
        }
      ]
    },
    {
      "cell_type": "code",
      "source": [
        "user"
      ],
      "metadata": {
        "colab": {
          "base_uri": "https://localhost:8080/"
        },
        "id": "HSWVb-8lEJ8_",
        "outputId": "12925d8e-7664-4136-b1d1-567e70251943"
      },
      "execution_count": 15,
      "outputs": [
        {
          "output_type": "execute_result",
          "data": {
            "text/plain": [
              "User(id=1, name=Utkarsh, age=30)"
            ]
          },
          "metadata": {},
          "execution_count": 15
        }
      ]
    },
    {
      "cell_type": "code",
      "source": [
        "from sqlalchemy import create_engine, Column, Integer, String\n",
        "from sqlalchemy.orm import sessionmaker, declarative_base\n",
        "import re\n",
        "\n",
        "# Set up the SQLite database connection\n",
        "engine = create_engine(\"sqlite:///test.db\")\n",
        "Session = sessionmaker(bind=engine)\n",
        "session = Session()\n",
        "\n",
        "Base = declarative_base()\n",
        "\n",
        "class User(Base):\n",
        "    __tablename__ = 'users'\n",
        "\n",
        "    id = Column(Integer, primary_key=True)\n",
        "    name = Column(String)\n",
        "    age = Column(Integer)\n",
        "\n",
        "    def __repr__(self):\n",
        "        return f\"<User(name={self.name}, age={self.age})>\"\n",
        "\n",
        "    @staticmethod\n",
        "    def sanitize_input(input_value, input_type):\n",
        "        # Ensure the input matches the expected type\n",
        "        if input_type == \"string\":\n",
        "            if not isinstance(input_value, str):\n",
        "                raise ValueError(\"Invalid input: Expected a string.\")\n",
        "            if not re.match(\"^[A-Za-z0-9]*$\", input_value):\n",
        "                raise ValueError(\"Invalid input: Only alphanumeric characters are allowed.\")\n",
        "            if len(input_value) > 50:\n",
        "                raise ValueError(\"Input too long.\")\n",
        "\n",
        "        elif input_type == \"integer\":\n",
        "            if not isinstance(input_value, int):\n",
        "                raise ValueError(\"Invalid input: Expected an integer.\")\n",
        "\n",
        "        return input_value\n",
        "\n",
        "    @classmethod\n",
        "    def add_user(cls, name, age):\n",
        "        # Sanitize user input\n",
        "        sanitized_name = cls.sanitize_input(name, \"string\")\n",
        "        sanitized_age = cls.sanitize_input(age, \"integer\")\n",
        "\n",
        "        # Create a new user instance\n",
        "        new_user = cls(name=sanitized_name, age=sanitized_age)\n",
        "\n",
        "        # Add the new user to the session and commit to the database\n",
        "        session.add(new_user)\n",
        "        session.commit()\n",
        "\n",
        "        print(f\"User {sanitized_name} added successfully.\")\n",
        "\n",
        "    @classmethod\n",
        "    def fetch_user(cls, name):\n",
        "        # Sanitize input\n",
        "        sanitized_name = cls.sanitize_input(name, \"string\")\n",
        "\n",
        "        # Query the database to find the user with the given name\n",
        "        user = session.query(cls).filter(cls.name == sanitized_name).first()\n",
        "\n",
        "        # Return the user data if found, else return None\n",
        "        return user\n",
        "\n",
        "    @classmethod\n",
        "    def modify_user(cls, name, new_name=None, new_age=None):\n",
        "        # Sanitize inputs\n",
        "        sanitized_name = cls.sanitize_input(name, \"string\")\n",
        "        if new_name:\n",
        "            sanitized_new_name = cls.sanitize_input(new_name, \"string\")\n",
        "        if new_age:\n",
        "            sanitized_new_age = cls.sanitize_input(new_age, \"integer\")\n",
        "\n",
        "        # Find the user to update\n",
        "        user = session.query(cls).filter(cls.name == sanitized_name).first()\n",
        "\n",
        "        if user:\n",
        "            if new_name:\n",
        "                user.name = sanitized_new_name\n",
        "            if new_age is not None:\n",
        "                user.age = sanitized_new_age\n",
        "\n",
        "            session.commit()\n",
        "            print(f\"User {sanitized_name} updated successfully.\")\n",
        "        else:\n",
        "            print(\"User not found.\")\n",
        "\n",
        "    @classmethod\n",
        "    def delete_user(cls, name):\n",
        "        # Sanitize input\n",
        "        sanitized_name = cls.sanitize_input(name, \"string\")\n",
        "\n",
        "        # Find the user to delete\n",
        "        user = session.query(cls).filter(cls.name == sanitized_name).first()\n",
        "\n",
        "        if user:\n",
        "            session.delete(user)\n",
        "            session.commit()\n",
        "            print(f\"User {sanitized_name} deleted successfully.\")\n",
        "        else:\n",
        "            print(\"User not found.\")\n",
        "\n",
        "# Create the table (if it doesn't exist)\n",
        "Base.metadata.create_all(engine)\n",
        "\n",
        "# Example usage\n",
        "if __name__ == \"__main__\":\n",
        "    User.add_user(\"JohnDoe123\", 30)\n",
        "    user = User.fetch_user(\"JohnDoe123\")\n",
        "    print(user)\n",
        "    User.modify_user(\"JohnDoe123\", new_name=\"JohnDoe456\", new_age=35)\n",
        "    user = User.fetch_user(\"JohnDoe456\")\n",
        "    print(user)\n",
        "    User.delete_user(\"JohnDoe456\")"
      ],
      "metadata": {
        "colab": {
          "base_uri": "https://localhost:8080/"
        },
        "id": "UdJ1tJrcEx_9",
        "outputId": "b75718cb-0951-483c-acab-25c519fcf2c9"
      },
      "execution_count": 16,
      "outputs": [
        {
          "output_type": "stream",
          "name": "stdout",
          "text": [
            "User JohnDoe123 added successfully.\n",
            "<User(name=JohnDoe123, age=30)>\n",
            "User JohnDoe123 updated successfully.\n",
            "<User(name=JohnDoe456, age=35)>\n",
            "User JohnDoe456 deleted successfully.\n"
          ]
        }
      ]
    },
    {
      "cell_type": "code",
      "source": [],
      "metadata": {
        "id": "obS-4S9eFSBU"
      },
      "execution_count": null,
      "outputs": []
    }
  ]
}
{
  "nbformat": 4,
  "nbformat_minor": 0,
  "metadata": {
    "colab": {
      "provenance": [],
      "authorship_tag": "ABX9TyNF1UCGUWyX9aFXKC6wbO2C",
      "include_colab_link": true
    },
    "kernelspec": {
      "name": "python3",
      "display_name": "Python 3"
    },
    "language_info": {
      "name": "python"
    }
  },
  "cells": [
    {
      "cell_type": "markdown",
      "metadata": {
        "id": "view-in-github",
        "colab_type": "text"
      },
      "source": [
        "<a href=\"https://colab.research.google.com/github/utkarshg1/DL-2pm-4pm-Weekend/blob/main/WikiScraper_Example.ipynb\" target=\"_parent\"><img src=\"https://colab.research.google.com/assets/colab-badge.svg\" alt=\"Open In Colab\"/></a>"
      ]
    },
    {
      "cell_type": "code",
      "execution_count": 1,
      "metadata": {
        "id": "M27rJaXSx_2p"
      },
      "outputs": [],
      "source": [
        "from pydantic import BaseModel, HttpUrl, AfterValidator, ValidationError\n",
        "import requests\n",
        "from bs4 import BeautifulSoup\n",
        "from typing_extensions import Annotated"
      ]
    },
    {
      "cell_type": "code",
      "source": [
        "def validate_url(v: HttpUrl) -> str:\n",
        "  if not str(v).startswith(\"https://en.wikipedia.org/wiki/\"):\n",
        "    raise ValueError(\"Not a Wikipedia URL\")\n",
        "  return v"
      ],
      "metadata": {
        "id": "OO_EFrBU18y5"
      },
      "execution_count": 2,
      "outputs": []
    },
    {
      "cell_type": "code",
      "source": [
        "WikiUrl = Annotated[HttpUrl, AfterValidator(validate_url)]"
      ],
      "metadata": {
        "id": "1rG4qzvt2XFg"
      },
      "execution_count": 3,
      "outputs": []
    },
    {
      "cell_type": "code",
      "source": [
        "class WikiScraper(BaseModel):\n",
        "  url: WikiUrl\n",
        "\n",
        "  def fetch_page(self):\n",
        "    r = requests.get(self.url)\n",
        "    r.raise_for_status()\n",
        "    return r.content\n",
        "\n",
        "  def get_soup(self):\n",
        "    content = self.fetch_page()\n",
        "    soup = BeautifulSoup(content, 'html.parser')\n",
        "    return soup\n",
        "\n",
        "  def get_title(self):\n",
        "    soup = self.get_soup()\n",
        "    return soup.title.string\n",
        "\n",
        "  def get_image_urls(self) -> list:\n",
        "    soup = self.get_soup()\n",
        "    image_urls = []\n",
        "    a = soup.find_all('a', class_=\"mw-file-description\")\n",
        "    for i in a:\n",
        "      img = i.get('href')\n",
        "      image_urls.append(\"https://en.wikipedia.org/\"+img)\n",
        "    return image_urls"
      ],
      "metadata": {
        "id": "b71EO7VwyVHz"
      },
      "execution_count": 4,
      "outputs": []
    },
    {
      "cell_type": "code",
      "source": [
        "try:\n",
        "  w1 = WikiScraper(url=\"https://en.wikipedia.org/wiki/World_population\")\n",
        "  print(w1.get_title())\n",
        "except Exception as e:\n",
        "  print(f\"Exception occured : {e}\")"
      ],
      "metadata": {
        "colab": {
          "base_uri": "https://localhost:8080/"
        },
        "id": "jDv6opZw3as9",
        "outputId": "c9461e20-2ff6-466f-a864-fc25a8acb332"
      },
      "execution_count": 5,
      "outputs": [
        {
          "output_type": "stream",
          "name": "stdout",
          "text": [
            "World population - Wikipedia\n"
          ]
        }
      ]
    },
    {
      "cell_type": "code",
      "source": [
        "w1.get_image_urls()"
      ],
      "metadata": {
        "colab": {
          "base_uri": "https://localhost:8080/"
        },
        "id": "weXBFBoc32T8",
        "outputId": "ffe3a088-e029-4365-f2eb-7868f99ae9f6"
      },
      "execution_count": 8,
      "outputs": [
        {
          "output_type": "execute_result",
          "data": {
            "text/plain": [
              "['https://en.wikipedia.org//wiki/File:World_Population_Prospects.svg',\n",
              " 'https://en.wikipedia.org//wiki/File:Illustration_of_contemporary_and_past_human_populations_Our_World_in_Data.png',\n",
              " 'https://en.wikipedia.org//wiki/File:2006megacities.svg',\n",
              " 'https://en.wikipedia.org//wiki/File:Expectancy_of_life.svg',\n",
              " 'https://en.wikipedia.org//wiki/File:Population_pyramid_of_the_world_in_continental_groupings_2023.svg',\n",
              " 'https://en.wikipedia.org//wiki/File:Global_population_cartogram.png',\n",
              " 'https://en.wikipedia.org//wiki/File:People%27s_-Km%C2%B2_for_all_countries_(and_us_states,_uk_kingdoms).png',\n",
              " 'https://en.wikipedia.org//wiki/File:Top_5_Country_Population_Graph_1901_to_2021.svg',\n",
              " 'https://en.wikipedia.org//wiki/File:Population_Density,_v4.11,_2020_(48009093621).jpg',\n",
              " 'https://en.wikipedia.org//wiki/File:World_population_(UN).svg',\n",
              " 'https://en.wikipedia.org//wiki/File:Total_Fertility_Rate_Map_by_Country.svg',\n",
              " 'https://en.wikipedia.org//wiki/File:World_population_counter,_Eureka,_Halifax,_West_Yorkshire_(27th_August_2022)_001.jpg',\n",
              " 'https://en.wikipedia.org//wiki/File:Population_curve.svg',\n",
              " 'https://en.wikipedia.org//wiki/File:World_population_growth_(lin-log_scale).png',\n",
              " 'https://en.wikipedia.org//wiki/File:World_population_history.svg',\n",
              " 'https://en.wikipedia.org//wiki/File:Question_book-new.svg',\n",
              " 'https://en.wikipedia.org//wiki/File:Population-doubling.svg',\n",
              " 'https://en.wikipedia.org//wiki/File:The_Earth_seen_from_Apollo_17.jpg',\n",
              " 'https://en.wikipedia.org//wiki/File:Emblem-money.svg']"
            ]
          },
          "metadata": {},
          "execution_count": 8
        }
      ]
    },
    {
      "cell_type": "code",
      "source": [],
      "metadata": {
        "id": "loglcM9H7HeE"
      },
      "execution_count": null,
      "outputs": []
    }
  ]
}